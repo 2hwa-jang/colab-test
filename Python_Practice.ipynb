{
  "nbformat": 4,
  "nbformat_minor": 0,
  "metadata": {
    "colab": {
      "name": "Python Practice.ipynb",
      "provenance": [],
      "authorship_tag": "ABX9TyP+kEb+wgZWUS2XhFxzKH5q",
      "include_colab_link": true
    },
    "kernelspec": {
      "name": "python3",
      "display_name": "Python 3"
    },
    "language_info": {
      "name": "python"
    }
  },
  "cells": [
    {
      "cell_type": "markdown",
      "metadata": {
        "id": "view-in-github",
        "colab_type": "text"
      },
      "source": [
        "<a href=\"https://colab.research.google.com/github/EHWAGABI/colab-test/blob/main/Python_Practice.ipynb\" target=\"_parent\"><img src=\"https://colab.research.google.com/assets/colab-badge.svg\" alt=\"Open In Colab\"/></a>"
      ]
    },
    {
      "cell_type": "code",
      "execution_count": 2,
      "metadata": {
        "colab": {
          "base_uri": "https://localhost:8080/"
        },
        "id": "k0KDeYUeipU6",
        "outputId": "1ddeaa04-a397-4681-8a5d-d40c6616b74f"
      },
      "outputs": [
        {
          "output_type": "stream",
          "name": "stdout",
          "text": [
            "0\n",
            "몬스터를 더 잡아야 합니다.\n",
            "1\n",
            "몬스터를 더 잡아야 합니다.\n",
            "2\n",
            "몬스터를 더 잡아야 합니다.\n",
            "3\n",
            "몬스터를 더 잡아야 합니다.\n",
            "4\n",
            "몬스터를 더 잡아야 합니다.\n",
            "5\n",
            "몬스터를 더 잡아야 합니다.\n",
            "6\n",
            "몬스터를 더 잡아야 합니다.\n",
            "7\n",
            "몬스터를 더 잡아야 합니다.\n",
            "8\n",
            "몬스터를 더 잡아야 합니다.\n",
            "9\n",
            "몬스터를 더 잡아야 합니다.\n",
            "LEVEL UP!\n"
          ]
        }
      ],
      "source": [
        "kill_count = 0\n",
        "\n",
        "while kill_count < 10:\n",
        "    print(kill_count)\n",
        "    print(\"몬스터를 더 잡아야 합니다.\")\n",
        "    kill_count += 1\n",
        "\n",
        "    if kill_count == 10:\n",
        "        print(\"LEVEL UP!\")"
      ]
    },
    {
      "cell_type": "code",
      "source": [
        ""
      ],
      "metadata": {
        "id": "8-R-RLXVisqE"
      },
      "execution_count": null,
      "outputs": []
    }
  ]
}