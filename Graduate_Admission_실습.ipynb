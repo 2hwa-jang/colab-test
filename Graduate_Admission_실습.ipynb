{
  "nbformat": 4,
  "nbformat_minor": 0,
  "metadata": {
    "colab": {
      "name": "Graduate_Admission_실습.ipynb",
      "provenance": [],
      "collapsed_sections": [],
      "toc_visible": true,
      "include_colab_link": true
    },
    "kernelspec": {
      "name": "python3",
      "display_name": "Python 3"
    },
    "language_info": {
      "name": "python"
    }
  },
  "cells": [
    {
      "cell_type": "markdown",
      "metadata": {
        "id": "view-in-github",
        "colab_type": "text"
      },
      "source": [
        "<a href=\"https://colab.research.google.com/github/EHWAGABI/colab-test/blob/main/Graduate_Admission_%EC%8B%A4%EC%8A%B5.ipynb\" target=\"_parent\"><img src=\"https://colab.research.google.com/assets/colab-badge.svg\" alt=\"Open In Colab\"/></a>"
      ]
    },
    {
      "cell_type": "markdown",
      "metadata": {
        "id": "4F-I5xD1p3MC"
      },
      "source": [
        "# 주제: 어떻게 하면 대학원에 입학할 수 있을까? 대학원 입학 가능성을 예측해보자.\n",
        "\n",
        "---\n",
        "\n",
        "##데이터 소개<BR>\n",
        "\n",
        "파일 : Admission_Predict_Ver1.1.csv <BR> 출처 : https://www.kaggle.com/mohansacharya/graduate-admissions\n",
        "\n",
        "컬럼 정보\n",
        "\n",
        "GRE Scores ( out of 340 ) : Graduate Record Examination 대학원 입학 시 치루는 시험 점수 <BR>\n",
        "TOEFL Scores ( out of 120 ) : 토플 점수  <BR>\n",
        "University Rating ( out of 5 ) : 대학교 레벨 <BR>\n",
        "Statement of Purpose Strength( out of 5 ) : 지원서 점수<BR>\n",
        "Letter of Recommendation Strength ( out of 5 ) : 추천서 점수<BR>\n",
        "Undergraduate GPA ( out of 10 ) : 대학교 학점<BR>\n",
        "Research Experience ( either 0 or 1 ) : 연구 경험 유무<BR>\n",
        "Chance of Admit ( ranging from 0 to 1 ) : 대학원 합격 확률<BR>"
      ]
    },
    {
      "cell_type": "markdown",
      "metadata": {
        "id": "d_3mpN9GwVZL"
      },
      "source": [
        "##1. 데이터 불러오기\n"
      ]
    },
    {
      "cell_type": "markdown",
      "metadata": {
        "id": "M4pviAYGx9en"
      },
      "source": [
        "### Kaggle 데이터를 Colab에서 불러오기"
      ]
    },
    {
      "cell_type": "code",
      "metadata": {
        "id": "EuFeT3BnQ4Kq"
      },
      "source": [
        "import warnings\n",
        "warnings.filterwarnings('ignore')"
      ],
      "execution_count": null,
      "outputs": []
    },
    {
      "cell_type": "code",
      "metadata": {
        "id": "ApXCo95T-7qt"
      },
      "source": [
        "!pip install kaggle"
      ],
      "execution_count": null,
      "outputs": []
    },
    {
      "cell_type": "code",
      "metadata": {
        "id": "kRCrVecp3edb"
      },
      "source": [
        "from google.colab import files\n",
        "files.upload()\n"
      ],
      "execution_count": null,
      "outputs": []
    },
    {
      "cell_type": "code",
      "metadata": {
        "id": "nVvGO_sb38p0"
      },
      "source": [
        "# kaggle.json 사용가능하도록 설정\n",
        "!mkdir -p ~/.kaggle\n",
        "!cp kaggle.json ~/.kaggle/\n",
        "!chmod 600 ~/.kaggle/kaggle.json"
      ],
      "execution_count": null,
      "outputs": []
    },
    {
      "cell_type": "code",
      "metadata": {
        "id": "ufWEygVK4Jp4"
      },
      "source": [
        "# kaggle 데이터 불러오기\n",
        "\n",
        "!unzip '*.zip'"
      ],
      "execution_count": null,
      "outputs": []
    },
    {
      "cell_type": "markdown",
      "metadata": {
        "id": "QQ8I29SHw6YD"
      },
      "source": [
        "##2. Pandas로 데이터 분석하기\n"
      ]
    },
    {
      "cell_type": "markdown",
      "metadata": {
        "id": "8nVGmkngx6PQ"
      },
      "source": [
        "### Admission_Predict_Ver1.1.csv 불러오기"
      ]
    },
    {
      "cell_type": "code",
      "metadata": {
        "id": "XGzqW7iayLIw"
      },
      "source": [
        ""
      ],
      "execution_count": null,
      "outputs": []
    },
    {
      "cell_type": "markdown",
      "metadata": {
        "id": "OSWjczpgxtLM"
      },
      "source": [
        "### Dataframe으로 데이터 접근하기"
      ]
    },
    {
      "cell_type": "markdown",
      "metadata": {
        "id": "E8ov2CY8yMwQ"
      },
      "source": [
        "###Pandas로 데이터 분석하기"
      ]
    },
    {
      "cell_type": "markdown",
      "metadata": {
        "id": "dwxpg_-7zT8b"
      },
      "source": [
        "##3. 데이터 시각화하기"
      ]
    },
    {
      "cell_type": "markdown",
      "metadata": {
        "id": "Lp4Oh5Syzh4L"
      },
      "source": [
        "### 시각화 라이브러리 소개"
      ]
    },
    {
      "cell_type": "code",
      "metadata": {
        "id": "HFMf7dwLzosl"
      },
      "source": [
        "import matplotlib.pyplot as plt\n",
        "import seaborn as sns"
      ],
      "execution_count": null,
      "outputs": []
    },
    {
      "cell_type": "code",
      "metadata": {
        "id": "abcrlr6oz4Ln"
      },
      "source": [
        "#plt.rc('font', family='NanumBarunGothic')\n",
        "plt.title('한글')\n",
        "plt.plot([1,3,4])\n",
        "plt.show()"
      ],
      "execution_count": null,
      "outputs": []
    },
    {
      "cell_type": "code",
      "metadata": {
        "id": "Gef6BrH8Bc-T"
      },
      "source": [
        "# 한글 깨짐\n",
        "!sudo apt-get install -y fonts-nanum\n",
        "!sudo fc-cache -fv\n",
        "!rm ~/.cache/matplotlib -rf\n",
        "# 런타임 다시 실행"
      ],
      "execution_count": null,
      "outputs": []
    },
    {
      "cell_type": "markdown",
      "metadata": {
        "id": "ibbzLwqJeO_E"
      },
      "source": [
        "###예제1\n",
        "**<오후 시간대별 카페 방문자 수>**\n",
        "\n",
        "1시 : 14명, 2시 : 33명, 3시 : 29명, 4시 : 19명, 5시 : 22명, 6시 : 11명\n",
        "\n",
        "x축 : 시<br>\n",
        "y축 : 방문자 수\n",
        "\n",
        "'오후 시간대별 카페 방문자 수'를 이름으로,<br>\n",
        "x축 / y축에 해당하는 데이터 label설정하여 <br>\n",
        "그래프 출력"
      ]
    },
    {
      "cell_type": "code",
      "metadata": {
        "colab": {
          "base_uri": "https://localhost:8080/",
          "height": 294
        },
        "id": "TrL7U3e2L2eA",
        "outputId": "be71588f-e41a-46e0-a9e2-1ee4c60450e8"
      },
      "source": [
        "# x, y 데이터 설정\n",
        "x = []\n",
        "y = []\n",
        "\n",
        "# 그래프 이름 설정\n",
        "plt.title()\n",
        "\n",
        "# 선 그래프 그리기\n",
        "plt.plot()\n",
        "\n",
        "# x축, y축 이름 설정\n",
        "plt.xlable()\n",
        "\n",
        "# 그래프 출력\n",
        "plt.show()"
      ],
      "execution_count": null,
      "outputs": [
        {
          "output_type": "display_data",
          "data": {
            "image/png": "[encoded data removed]",
            "text/plain": [
              "<Figure size 432x288 with 1 Axes>"
            ]
          },
          "metadata": {
            "needs_background": "light"
          }
        }
      ]
    },
    {
      "cell_type": "markdown",
      "metadata": {
        "id": "mtvbHihHSpU0"
      },
      "source": [
        "### 수치형 데이터 시각화하기\n",
        "수치형 데이터란 키, 몸무게, 가격, 판매량 등 수치 형태로 측정되는 데이터"
      ]
    },
    {
      "cell_type": "code",
      "metadata": {
        "id": "36J3KFgUv1dW"
      },
      "source": [
        ""
      ],
      "execution_count": null,
      "outputs": []
    },
    {
      "cell_type": "markdown",
      "metadata": {
        "id": "qjY57MaKlY7S"
      },
      "source": [
        "###예제2\n",
        "**<GRE와 TOEFL의 관계 산점도로 살펴보기>**\n",
        "\n",
        "x축 : GRE<br>\n",
        "y축 : TOEFL\n",
        "\n",
        "각 축에 해당하는 데이터를 축 이름으로 설정하여\n",
        "그래프 출력"
      ]
    },
    {
      "cell_type": "code",
      "metadata": {
        "colab": {
          "base_uri": "https://localhost:8080/",
          "height": 294
        },
        "id": "53h7q-8sNHHj",
        "outputId": "d3faa11a-589e-4f7d-e5bc-1a3878ef1332"
      },
      "source": [
        "# 그래프 이름 설정\n",
        "\n",
        "\n",
        "# 산점도 그래프 \n",
        "plt.scatter()\n",
        "\n",
        "# x축, y축 이름 설정\n",
        "\n",
        "\n",
        "\n",
        "# 그래프 출력\n"
      ],
      "execution_count": null,
      "outputs": [
        {
          "output_type": "display_data",
          "data": {
            "image/png": "[encoded data removed]",
            "text/plain": [
              "<Figure size 432x288 with 1 Axes>"
            ]
          },
          "metadata": {
            "needs_background": "light"
          }
        }
      ]
    },
    {
      "cell_type": "markdown",
      "metadata": {
        "id": "QphFd2lM9mU4"
      },
      "source": [
        "###예제3\n",
        "**<GRE와 CGPA의 관계 산점도로 살펴보기>**\n",
        "\n",
        "x축 : GRE<br>\n",
        "y축 : CGPA\n",
        "\n",
        "'GRE - CGPA'를 그래프 이름으로 설정하고, 각 축에 해당하는 데이터를 축 이름으로 설정하여\n",
        "그래프 출력"
      ]
    },
    {
      "cell_type": "code",
      "metadata": {
        "colab": {
          "base_uri": "https://localhost:8080/",
          "height": 294
        },
        "id": "boh4MiH2oIw0",
        "outputId": "f5919264-34e2-4c99-efa4-1a7ad9d1ac24"
      },
      "source": [
        "# 그래프 이름 설정\n",
        "\n",
        "\n",
        "# 산점도 그래프 \n",
        "\n",
        "\n",
        "# x축, y축 이름 설정\n",
        "\n",
        "\n",
        "# 그래프 출력\n"
      ],
      "execution_count": null,
      "outputs": [
        {
          "output_type": "display_data",
          "data": {
            "image/png": "[encoded data removed]",
            "text/plain": [
              "<Figure size 432x288 with 1 Axes>"
            ]
          },
          "metadata": {
            "needs_background": "light"
          }
        }
      ]
    },
    {
      "cell_type": "markdown",
      "metadata": {
        "id": "4JqOLwW2lzUz"
      },
      "source": [
        "###예제4\n",
        "**<TOEFL과 CGPA의 관계 산점도와 직선으로 살펴보기>**\n",
        "\n",
        "x축 : TOEFL <br>\n",
        "y축 : CGPA\n",
        "\n",
        "'TOEFL - CGPA' 을 그래프 이름으로 설정하여,\n",
        "산점도와 직선을 같이 보여주는 그래프 출력"
      ]
    },
    {
      "cell_type": "code",
      "metadata": {
        "colab": {
          "base_uri": "https://localhost:8080/",
          "height": 294
        },
        "id": "oZJULcSrNgx_",
        "outputId": "ea30cb9e-ca35-40d2-871e-0af56dc4f81e"
      },
      "source": [
        "# 그래프 이름 설정\n",
        "\n",
        "\n",
        "# 산점도와 직선 그래프 \n",
        "\n",
        "\n",
        "# x축, y축 이름 설정\n",
        "\n",
        "\n",
        "# 그래프 출력\n"
      ],
      "execution_count": null,
      "outputs": [
        {
          "output_type": "display_data",
          "data": {
            "image/png": "[encoded data removed]",
            "text/plain": [
              "<Figure size 432x288 with 1 Axes>"
            ]
          },
          "metadata": {
            "needs_background": "light"
          }
        }
      ]
    },
    {
      "cell_type": "markdown",
      "metadata": {
        "id": "2n9ZcCO1avHL"
      },
      "source": [
        "### 범주형 데이터 시각화하기"
      ]
    },
    {
      "cell_type": "markdown",
      "metadata": {
        "id": "FiInAMgqFenM"
      },
      "source": [
        "남 / 여 성별과 같이 몇 개의 범주로 구분되는 데이터"
      ]
    },
    {
      "cell_type": "code",
      "metadata": {
        "id": "yhtKu38KwZJ9"
      },
      "source": [
        ""
      ],
      "execution_count": null,
      "outputs": []
    },
    {
      "cell_type": "markdown",
      "metadata": {
        "id": "2LataI--AcRU"
      },
      "source": [
        "###예제5\n",
        "**<Univ.와  Admit의 관계  violinplot으로 분석하기>**\n",
        "\n",
        "x축 : Univ.<br>\n",
        "y축 : Admit\n",
        "\n",
        "'Univ. - Admit' 을 그래프 이름으로 설정하여, viloinplot 그래프 출력"
      ]
    },
    {
      "cell_type": "code",
      "metadata": {
        "colab": {
          "base_uri": "https://localhost:8080/",
          "height": 294
        },
        "id": "M68mq1f-Dz97",
        "outputId": "2f7dd71b-844a-47b6-c0c8-422620626b44"
      },
      "source": [
        "# 그래프 이름 설정\n",
        "\n",
        "\n",
        "# violinplot 그래프\n",
        "\n",
        "\n",
        "# 그래프 출력\n"
      ],
      "execution_count": null,
      "outputs": [
        {
          "output_type": "display_data",
          "data": {
            "image/png": "[encoded data removed]",
            "text/plain": [
              "<Figure size 432x288 with 1 Axes>"
            ]
          },
          "metadata": {
            "needs_background": "light"
          }
        }
      ]
    },
    {
      "cell_type": "markdown",
      "metadata": {
        "id": "oUIhpi0_DKDD"
      },
      "source": [
        "###예제6\n",
        "**<Research와  Admit의 관계  barplot으로 분석하기>**\n",
        "\n",
        "x축 : Research<br>\n",
        "y축 : Admit\n",
        "\n",
        "'Research - Admit' 을 그래프 이름으로 설정하여, barplot 그래프 출력"
      ]
    },
    {
      "cell_type": "code",
      "metadata": {
        "colab": {
          "base_uri": "https://localhost:8080/",
          "height": 294
        },
        "id": "ZTeVfqCjEMRk",
        "outputId": "936f1491-b70c-41a6-e6cf-71906ed2129d"
      },
      "source": [
        "# 그래프 이름 설정\n",
        "\n",
        "\n",
        "# barplot 그래프\n",
        "\n",
        "\n",
        "# 그래프 출력\n"
      ],
      "execution_count": null,
      "outputs": [
        {
          "output_type": "display_data",
          "data": {
            "image/png": "[encoded data removed]",
            "text/plain": [
              "<Figure size 432x288 with 1 Axes>"
            ]
          },
          "metadata": {
            "needs_background": "light"
          }
        }
      ]
    },
    {
      "cell_type": "markdown",
      "metadata": {
        "id": "sEaaY_4zQMmR"
      },
      "source": [
        "### 데이터 상관관계 확인하기"
      ]
    },
    {
      "cell_type": "code",
      "metadata": {
        "id": "Q7XO0qWZwoj2"
      },
      "source": [
        ""
      ],
      "execution_count": null,
      "outputs": []
    },
    {
      "cell_type": "markdown",
      "metadata": {
        "id": "5njoYbU2eTk5"
      },
      "source": [
        "## 4. 데이터 전처리"
      ]
    },
    {
      "cell_type": "markdown",
      "metadata": {
        "id": "6gr0qx9CeaPp"
      },
      "source": [
        "### 데이터 이상치 제거하기"
      ]
    },
    {
      "cell_type": "code",
      "metadata": {
        "id": "gPkAYQVTew-p"
      },
      "source": [
        "def remove_outliers(df,column_name,lower,upper):\n",
        "    removed_outliers = df[column_name].between(df[column_name].quantile(lower), df[column_name].quantile(upper))\n",
        "    bf  = df[column_name].size\n",
        "    print(str(df[column_name][removed_outliers].size) + \"/\" + str(bf) + \" data points remain.\") \n",
        "    index_names = df[~removed_outliers].index \n",
        "    return df.drop(index_names)"
      ],
      "execution_count": null,
      "outputs": []
    },
    {
      "cell_type": "markdown",
      "metadata": {
        "id": "J-P31znSqpDY"
      },
      "source": [
        "###예제7\n",
        "**<TOEFL 이상치 제거하기>**\n",
        "\n",
        "2Sigma , IQR, IQR x 1.5 <BR>3가지 방식으로 TOEFL 이상치 제거하여, 이상치 제거 전 / 후 TOEFL 데이터 분포 차이 확인하기\n",
        "\n"
      ]
    },
    {
      "cell_type": "code",
      "metadata": {
        "id": "HeJZQr6wCHfv"
      },
      "source": [
        "# 2Sigma\n",
        "toefl_sigma = "
      ],
      "execution_count": null,
      "outputs": []
    },
    {
      "cell_type": "code",
      "metadata": {
        "id": "yBu5IGDesA4d"
      },
      "source": [
        "# IQR\n",
        "toefl_iqr = "
      ],
      "execution_count": null,
      "outputs": []
    },
    {
      "cell_type": "code",
      "metadata": {
        "id": "2RImf26Os-MY"
      },
      "source": [
        "# IQR x 1.5\n",
        "toefl_iqr15 = "
      ],
      "execution_count": null,
      "outputs": []
    },
    {
      "cell_type": "code",
      "metadata": {
        "id": "eT2H3Crmr12w"
      },
      "source": [
        "# 타이틀 - TOEFL 이상치 제거 전 점수 분포\n",
        "\n",
        "\n",
        "# kdeplot 그래프\n",
        "\n",
        "\n",
        "# 그래프 출력\n"
      ],
      "execution_count": null,
      "outputs": []
    },
    {
      "cell_type": "code",
      "metadata": {
        "id": "3PrwhD8Wr25s"
      },
      "source": [
        "# 타이틀 - TOEFL Sigma 이상치 제거 후 점수 분포\n",
        "\n",
        "\n",
        "# kdeplot 그래프\n",
        "\n",
        "\n",
        "# 그래프 출력\n"
      ],
      "execution_count": null,
      "outputs": []
    },
    {
      "cell_type": "code",
      "metadata": {
        "id": "AXQlWHratO1I"
      },
      "source": [
        "# 타이틀 - TOEFL IQR 이상치 제거 후 점수 분포\n",
        "\n",
        "\n",
        "# kdeplot 그래프\n",
        "\n",
        "\n",
        "# 그래프 출력\n"
      ],
      "execution_count": null,
      "outputs": []
    },
    {
      "cell_type": "code",
      "metadata": {
        "id": "4qdxZX3YtO9Q"
      },
      "source": [
        "# 타이틀 - TOEFL IQR x 1.5 이상치 제거 후 점수 분포\n",
        "\n",
        "\n",
        "# kdeplot 그래프\n",
        "\n",
        "\n",
        "# 그래프 출력\n"
      ],
      "execution_count": null,
      "outputs": []
    },
    {
      "cell_type": "markdown",
      "metadata": {
        "id": "mXXMXzSMNp_2"
      },
      "source": [
        "### Feature 선택하기"
      ]
    },
    {
      "cell_type": "code",
      "metadata": {
        "id": "a3NTFJRkxdC_"
      },
      "source": [
        ""
      ],
      "execution_count": null,
      "outputs": []
    },
    {
      "cell_type": "markdown",
      "metadata": {
        "id": "RDzixwNsNuqp"
      },
      "source": [
        "### 숫자 데이터 표준화하기"
      ]
    },
    {
      "cell_type": "code",
      "metadata": {
        "id": "042xTvA3xicv"
      },
      "source": [
        ""
      ],
      "execution_count": null,
      "outputs": []
    },
    {
      "cell_type": "markdown",
      "metadata": {
        "id": "A0OQmsBmN6QY"
      },
      "source": [
        "### 카테고리 데이터 dummy 처리하기"
      ]
    },
    {
      "cell_type": "code",
      "metadata": {
        "id": "c9NJuHO0xjXc"
      },
      "source": [
        ""
      ],
      "execution_count": null,
      "outputs": []
    },
    {
      "cell_type": "markdown",
      "metadata": {
        "id": "rytwe_M7OHND"
      },
      "source": [
        "## 5. 모델링과 결과 예측하기"
      ]
    },
    {
      "cell_type": "markdown",
      "metadata": {
        "id": "p-Gqf6PDN8qd"
      },
      "source": [
        "### 학습 데이터와 테스트 데이터 분리하기"
      ]
    },
    {
      "cell_type": "code",
      "metadata": {
        "id": "PeThdb8yxvH4"
      },
      "source": [
        ""
      ],
      "execution_count": null,
      "outputs": []
    },
    {
      "cell_type": "markdown",
      "metadata": {
        "id": "j7egREDFOUam"
      },
      "source": [
        "### Linear Regression 으로 예측하기"
      ]
    },
    {
      "cell_type": "code",
      "metadata": {
        "id": "uyHfK82HxwI3"
      },
      "source": [
        ""
      ],
      "execution_count": null,
      "outputs": []
    },
    {
      "cell_type": "markdown",
      "metadata": {
        "id": "OiWNs3TKciMG"
      },
      "source": [
        "###예제8\n",
        "**<Linear Regression로 학습시간별 시험점수 예측하기>**\n",
        "\n",
        "**y = ax + b\n",
        "<br>\n",
        "y : 시험 점수\n",
        "x : 학습 시간**\n",
        "\n",
        "\n",
        "학습 시간\n",
        "x = [10, 23, 49, 52, 60, 11, 22, 24, 27, 12, 55, 49, 47, 33, 39, 41, 45, 48, 13, 14, 17, 16, 31, 44, 59, 58, 34, 32, 30, 20, 26, 24, 38, 48, 53, 56, 43, 42, 32, 37, 51]\n",
        "\n",
        "시험 점수\n",
        "y = [32, 50, 74, 80, 89, 33, 49, 50, 53, 37, 88, 74, 76, 61, 66, 63, 77, 77, 32, 37, 39, 38, 60, 70, 85, 90, 58, 61, 60, 45, 47, 49, 55, 77, 82, 92, 70, 69, 60, 59, 80]\n",
        "\n",
        "해당 데이터로 산점도 그래프 출력 후,<br>linear regression을 이용해 예측 모델을 생성하여 학습 시간이 55분일 때 시험 점수 예측 결과 확인\n",
        "\n",
        "\n",
        "\n",
        "\n"
      ]
    },
    {
      "cell_type": "code",
      "metadata": {
        "id": "k8nKIHpHfCds"
      },
      "source": [
        "# 타이틀\n",
        "plt.title('학습 시간과 시험 점수 관계')\n",
        "\n",
        "x = [10, 23, 49, 52, 60, 11, 22, 24, 27, 12, 55, 49, 47, 33, 39, 41, 45, 48, 13, 14, 17, 16, 31, 44, 59, 58, 34, 32, 30, 20, 26, 24, 38, 48, 53, 56, 43, 42, 32, 37, 51]\n",
        "\n",
        "y = [32, 50, 74, 80, 89, 33, 49, 50, 53, 37, 88, 74, 76, 61, 66, 63, 77, 77, 32, 37, 39, 38, 60, 70, 85, 90, 58, 61, 60, 45, 47, 49, 55, 77, 82, 92, 70, 69, 60, 59, 80]\n",
        "\n",
        "# x,y 데이터를 데이터프레임으로 변환\n",
        "df= pd.DataFrame(data  = {\"min\" : x,\"score\" : y}, columns = [\"min\",\"score\"])\n",
        "\n",
        "\n",
        "# 산점도\n",
        "\n",
        "\n",
        "# x축 이름\n",
        "\n",
        "# y축 이름\n",
        "\n",
        "# 그래프 출력\n",
        "plt.show()"
      ],
      "execution_count": null,
      "outputs": []
    },
    {
      "cell_type": "code",
      "metadata": {
        "id": "VONAvth9hApQ"
      },
      "source": [
        "# 1. model 생성\n",
        "linear_model_score =\n",
        "\n",
        "# 2. model 학습\n",
        "linear_model_score.fit( , )\n",
        "\n",
        "# 3. model로 예측하기\n",
        "linear_predict_score_y = linear_model_score.predict([[55]])\n",
        "print(linear_predict_score_y)"
      ],
      "execution_count": null,
      "outputs": []
    },
    {
      "cell_type": "markdown",
      "metadata": {
        "id": "yZZMzOQJObNb"
      },
      "source": [
        "### RandomForest Regression 으로 예측하기"
      ]
    },
    {
      "cell_type": "code",
      "metadata": {
        "id": "-KPFOQkbxyKh"
      },
      "source": [
        ""
      ],
      "execution_count": null,
      "outputs": []
    },
    {
      "cell_type": "markdown",
      "metadata": {
        "id": "kXXWLJdPOvu2"
      },
      "source": [
        "### 결과 분석하기"
      ]
    },
    {
      "cell_type": "code",
      "metadata": {
        "id": "WxV-EDG0x6Of"
      },
      "source": [
        ""
      ],
      "execution_count": null,
      "outputs": []
    }
  ]
}